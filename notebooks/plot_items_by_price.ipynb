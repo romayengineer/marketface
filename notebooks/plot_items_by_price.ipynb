{
 "cells": [
  {
   "cell_type": "code",
   "execution_count": 87,
   "id": "c75f266a-534e-4be4-8c51-54d0e3989440",
   "metadata": {},
   "outputs": [],
   "source": [
    "from database import get_items_list\n",
    "import matplotlib.pyplot as plt\n",
    "from fitter import Fitter, get_common_distributions, get_distributions"
   ]
  },
  {
   "cell_type": "code",
   "execution_count": 88,
   "id": "bfa6df9b-d5a7-4e92-9b4b-f5123c46a1de",
   "metadata": {},
   "outputs": [],
   "source": [
    "all_items = []\n",
    "\n",
    "for n in range(1, 41):\n",
    "    all_items.extend(get_items_list(n, 100, \"\").items)\n",
    "\n",
    "items_with_prices = []\n",
    "\n",
    "for item in all_items:\n",
    "    if item.price_usd > 0:\n",
    "        items_with_prices.append(item)"
   ]
  },
  {
   "cell_type": "code",
   "execution_count": 89,
   "id": "24862157-f6c2-4132-8e5a-46bcb5ba509a",
   "metadata": {},
   "outputs": [],
   "source": [
    "def wanted_items_by_usd(isUsd):\n",
    "    def wanted_items(item):\n",
    "        title = item.title.lower()\n",
    "        desc = item.description.lower()\n",
    "        text = title + \" \" + desc\n",
    "        length = len(\" \".join(set(text.split(\" \"))))\n",
    "        if (item.deleted == False and\n",
    "            item.usd == True and\n",
    "            \"somi\"     in text and\n",
    "            # \"pro\"        in text and\n",
    "            # \"air\"        not in text and\n",
    "            # \"placa\"      not in text and\n",
    "            # \"imac\"       not in text and\n",
    "            # \"ipad\"       not in text and\n",
    "            # \"phone\"      not in text and\n",
    "            # \"repuesto\"   not in text and\n",
    "            # item.price_usd != 111   and\n",
    "            # item.price_usd != 222   and\n",
    "            # item.price_usd != 333   and\n",
    "            # item.price_usd != 444   and\n",
    "            # item.price_usd != 555   and\n",
    "            # item.price_usd != 666   and\n",
    "            # item.price_usd != 777   and\n",
    "            # item.price_usd != 888   and\n",
    "            # item.price_usd != 999   and\n",
    "            # item.price_usd != 1111  and\n",
    "            # item.price_usd != 2222  and\n",
    "            # item.price_usd != 3333  and\n",
    "            # item.price_usd != 4444  and\n",
    "            # length > 80 and\n",
    "            item.price_usd >  20   and\n",
    "            item.price_usd <  500 and\n",
    "           True):\n",
    "            return True\n",
    "        return False\n",
    "    return wanted_items\n",
    "\n",
    "def filter_items(isUsd):\n",
    "    filtered_items = filter(wanted_items_by_usd(isUsd), items_with_prices)\n",
    "    filtered_items = sorted(filtered_items, key=lambda i: i.price_usd)\n",
    "    # if isUsd:\n",
    "    #     filtered_items *= 7 # times more items if it is USD\n",
    "    return filtered_items\n",
    "\n",
    "def calculate_prices_usd(isUsd):\n",
    "    filtered_items = filter_items(isUsd)\n",
    "    prices_usd = []\n",
    "    \n",
    "    for item in filtered_items:\n",
    "        prices_usd.append(item.price_usd)\n",
    "        # print(item.title.ljust(100), item.price_usd)\n",
    "    \n",
    "    return prices_usd\n",
    "\n",
    "def get_urls(isUsd):\n",
    "    filtered_items = filter_items(isUsd)\n",
    "    urls = []\n",
    "    \n",
    "    for item in filtered_items:\n",
    "        title = item.title.lower()\n",
    "        desc = item.description.lower()\n",
    "        text = title + \" \" + desc\n",
    "        length = len(\" \".join(set(text.split(\" \"))))\n",
    "        urls.append((length, item.url))\n",
    "        # print(item.title.ljust(100), item.price_usd)\n",
    "\n",
    "    urls.sort(key=lambda i: i[0])\n",
    "    \n",
    "    return urls\n",
    "\n",
    "def calculate_and_print_for(currency, bins):\n",
    "    if currency == \"USD\":\n",
    "        prices = calculate_prices_usd(True)\n",
    "        count = len(prices)\n",
    "        print(\"Count Items USD: \", count)\n",
    "    elif currency == \"ARS\":\n",
    "        prices = calculate_prices_usd(False)\n",
    "        count = len(prices)\n",
    "        print(\"Count Items ARS: \", count)\n",
    "    elif currency == \"ALL\":\n",
    "        prices = []\n",
    "        prices += calculate_prices_usd(True)\n",
    "        prices += calculate_prices_usd(False)\n",
    "        count = len(prices)\n",
    "        print(\"Count Items ALL: \", count)\n",
    "    else:\n",
    "        raise Exception(f\"Unknown currency {currency}\")\n",
    "    counts, bins, bars = plt.hist(prices, bins)\n",
    "    return (prices, (counts, bins, bars),)\n",
    "\n",
    "def count_chars_in_text():\n",
    "    chars = []\n",
    "    for item in items_with_prices:\n",
    "        title = item.title.lower()\n",
    "        desc = item.description.lower()\n",
    "        text = title + \" \" + desc\n",
    "        # length = len(text)\n",
    "        length = len(\" \".join(set(text.split(\" \"))))\n",
    "        #if length < 100:\n",
    "        #    continue\n",
    "        # if length > 700:\n",
    "        #     continue\n",
    "        chars.append(length)\n",
    "    return chars\n",
    "    "
   ]
  },
  {
   "cell_type": "code",
   "execution_count": 90,
   "id": "190f8dc3-7888-4a87-a1dd-bc60eec7286c",
   "metadata": {},
   "outputs": [
    {
     "name": "stdout",
     "output_type": "stream",
     "text": [
      "Count Items USD:  0\n"
     ]
    },
    {
     "ename": "ValueError",
     "evalue": "zero-size array to reduction operation minimum which has no identity",
     "output_type": "error",
     "traceback": [
      "\u001b[0;31m---------------------------------------------------------------------------\u001b[0m",
      "\u001b[0;31mValueError\u001b[0m                                Traceback (most recent call last)",
      "Cell \u001b[0;32mIn[90], line 7\u001b[0m\n\u001b[1;32m      3\u001b[0m items_usd, usd_hist \u001b[38;5;241m=\u001b[39m calculate_and_print_for(\u001b[38;5;124m\"\u001b[39m\u001b[38;5;124mUSD\u001b[39m\u001b[38;5;124m\"\u001b[39m, usd_bins)\n\u001b[1;32m      5\u001b[0m dists \u001b[38;5;241m=\u001b[39m [\u001b[38;5;124m\"\u001b[39m\u001b[38;5;124mnorm\u001b[39m\u001b[38;5;124m\"\u001b[39m]\n\u001b[0;32m----> 7\u001b[0m f \u001b[38;5;241m=\u001b[39m \u001b[43mFitter\u001b[49m\u001b[43m(\u001b[49m\u001b[43mitems_usd\u001b[49m\u001b[43m,\u001b[49m\n\u001b[1;32m      8\u001b[0m \u001b[43m           \u001b[49m\u001b[43mdistributions\u001b[49m\u001b[43m \u001b[49m\u001b[38;5;241;43m=\u001b[39;49m\u001b[43m \u001b[49m\u001b[43mdists\u001b[49m\u001b[43m,\u001b[49m\n\u001b[1;32m      9\u001b[0m \u001b[43m           \u001b[49m\u001b[43mbins\u001b[49m\u001b[43m \u001b[49m\u001b[38;5;241;43m=\u001b[39;49m\u001b[43m \u001b[49m\u001b[43musd_bins\u001b[49m\u001b[43m)\u001b[49m\n\u001b[1;32m     10\u001b[0m f\u001b[38;5;241m.\u001b[39mfit()\n\u001b[1;32m     11\u001b[0m f\u001b[38;5;241m.\u001b[39msummary()\n",
      "File \u001b[0;32m~/Projects/marketface/venv/lib/python3.12/site-packages/fitter/fitter.py:215\u001b[0m, in \u001b[0;36mFitter.__init__\u001b[0;34m(self, data, xmin, xmax, bins, distributions, timeout, density)\u001b[0m\n\u001b[1;32m    213\u001b[0m \u001b[38;5;28mself\u001b[39m\u001b[38;5;241m.\u001b[39m_alldata \u001b[38;5;241m=\u001b[39m np\u001b[38;5;241m.\u001b[39marray(data)\n\u001b[1;32m    214\u001b[0m \u001b[38;5;28;01mif\u001b[39;00m xmin \u001b[38;5;241m==\u001b[39m \u001b[38;5;28;01mNone\u001b[39;00m:\n\u001b[0;32m--> 215\u001b[0m     \u001b[38;5;28mself\u001b[39m\u001b[38;5;241m.\u001b[39m_xmin \u001b[38;5;241m=\u001b[39m \u001b[38;5;28;43mself\u001b[39;49m\u001b[38;5;241;43m.\u001b[39;49m\u001b[43m_alldata\u001b[49m\u001b[38;5;241;43m.\u001b[39;49m\u001b[43mmin\u001b[49m\u001b[43m(\u001b[49m\u001b[43m)\u001b[49m\n\u001b[1;32m    216\u001b[0m \u001b[38;5;28;01melse\u001b[39;00m:\n\u001b[1;32m    217\u001b[0m     \u001b[38;5;28mself\u001b[39m\u001b[38;5;241m.\u001b[39m_xmin \u001b[38;5;241m=\u001b[39m xmin\n",
      "File \u001b[0;32m~/Projects/marketface/venv/lib/python3.12/site-packages/numpy/core/_methods.py:45\u001b[0m, in \u001b[0;36m_amin\u001b[0;34m(a, axis, out, keepdims, initial, where)\u001b[0m\n\u001b[1;32m     43\u001b[0m \u001b[38;5;28;01mdef\u001b[39;00m \u001b[38;5;21m_amin\u001b[39m(a, axis\u001b[38;5;241m=\u001b[39m\u001b[38;5;28;01mNone\u001b[39;00m, out\u001b[38;5;241m=\u001b[39m\u001b[38;5;28;01mNone\u001b[39;00m, keepdims\u001b[38;5;241m=\u001b[39m\u001b[38;5;28;01mFalse\u001b[39;00m,\n\u001b[1;32m     44\u001b[0m           initial\u001b[38;5;241m=\u001b[39m_NoValue, where\u001b[38;5;241m=\u001b[39m\u001b[38;5;28;01mTrue\u001b[39;00m):\n\u001b[0;32m---> 45\u001b[0m     \u001b[38;5;28;01mreturn\u001b[39;00m \u001b[43mumr_minimum\u001b[49m\u001b[43m(\u001b[49m\u001b[43ma\u001b[49m\u001b[43m,\u001b[49m\u001b[43m \u001b[49m\u001b[43maxis\u001b[49m\u001b[43m,\u001b[49m\u001b[43m \u001b[49m\u001b[38;5;28;43;01mNone\u001b[39;49;00m\u001b[43m,\u001b[49m\u001b[43m \u001b[49m\u001b[43mout\u001b[49m\u001b[43m,\u001b[49m\u001b[43m \u001b[49m\u001b[43mkeepdims\u001b[49m\u001b[43m,\u001b[49m\u001b[43m \u001b[49m\u001b[43minitial\u001b[49m\u001b[43m,\u001b[49m\u001b[43m \u001b[49m\u001b[43mwhere\u001b[49m\u001b[43m)\u001b[49m\n",
      "\u001b[0;31mValueError\u001b[0m: zero-size array to reduction operation minimum which has no identity"
     ]
    },
    {
     "data": {
      "image/png": "[encoded data removed]",
      "text/plain": [
       "<Figure size 640x480 with 1 Axes>"
      ]
     },
     "metadata": {},
     "output_type": "display_data"
    }
   ],
   "source": [
    "usd_bins = 20\n",
    "\n",
    "items_usd, usd_hist = calculate_and_print_for(\"USD\", usd_bins)\n",
    "\n",
    "dists = [\"norm\"]\n",
    "\n",
    "f = Fitter(items_usd,\n",
    "           distributions = dists,\n",
    "           bins = usd_bins)\n",
    "f.fit()\n",
    "f.summary()"
   ]
  },
  {
   "cell_type": "code",
   "execution_count": null,
   "id": "5cb53cf0-b093-48ce-aaa7-d352fdf2944c",
   "metadata": {},
   "outputs": [],
   "source": [
    "ars_bins = 30\n",
    "\n",
    "items_ars, ars_hist = calculate_and_print_for(\"ARS\", ars_bins)\n",
    "\n",
    "dists = [\"lognorm\"]\n",
    "\n",
    "f = Fitter(items_ars,\n",
    "           distributions = dists,\n",
    "           bins = ars_bins)\n",
    "f.fit()\n",
    "f.summary()"
   ]
  },
  {
   "cell_type": "code",
   "execution_count": 84,
   "id": "85a2f6c8-1cd6-4d18-9908-4b388a5b45f6",
   "metadata": {},
   "outputs": [
    {
     "data": {
      "text/plain": [
       "3921"
      ]
     },
     "execution_count": 84,
     "metadata": {},
     "output_type": "execute_result"
    }
   ],
   "source": [
    "len(items_with_prices)"
   ]
  },
  {
   "cell_type": "code",
   "execution_count": 85,
   "id": "57e63059-cfec-47df-a138-b2f481e5863d",
   "metadata": {},
   "outputs": [
    {
     "name": "stderr",
     "output_type": "stream",
     "text": [
      "2024-09-18 18:32:38.241 | INFO     | fitter.fitter:_fit_single_distribution:333 - Fitted gamma distribution with error=0.0)\n"
     ]
    },
    {
     "data": {
      "text/html": [
       "<div>\n",
       "<style scoped>\n",
       "    .dataframe tbody tr th:only-of-type {\n",
       "        vertical-align: middle;\n",
       "    }\n",
       "\n",
       "    .dataframe tbody tr th {\n",
       "        vertical-align: top;\n",
       "    }\n",
       "\n",
       "    .dataframe thead th {\n",
       "        text-align: right;\n",
       "    }\n",
       "</style>\n",
       "<table border=\"1\" class=\"dataframe\">\n",
       "  <thead>\n",
       "    <tr style=\"text-align: right;\">\n",
       "      <th></th>\n",
       "      <th>sumsquare_error</th>\n",
       "      <th>aic</th>\n",
       "      <th>bic</th>\n",
       "      <th>kl_div</th>\n",
       "      <th>ks_statistic</th>\n",
       "      <th>ks_pvalue</th>\n",
       "    </tr>\n",
       "  </thead>\n",
       "  <tbody>\n",
       "    <tr>\n",
       "      <th>gamma</th>\n",
       "      <td>3.025476e-07</td>\n",
       "      <td>899.352983</td>\n",
       "      <td>918.175289</td>\n",
       "      <td>inf</td>\n",
       "      <td>0.068981</td>\n",
       "      <td>1.145186e-16</td>\n",
       "    </tr>\n",
       "  </tbody>\n",
       "</table>\n",
       "</div>"
      ],
      "text/plain": [
       "       sumsquare_error         aic         bic  kl_div  ks_statistic  \\\n",
       "gamma     3.025476e-07  899.352983  918.175289     inf      0.068981   \n",
       "\n",
       "          ks_pvalue  \n",
       "gamma  1.145186e-16  "
      ]
     },
     "execution_count": 85,
     "metadata": {},
     "output_type": "execute_result"
    },
    {
     "data": {
      "image/png": "[encoded data removed]",
      "text/plain": [
       "<Figure size 640x480 with 1 Axes>"
      ]
     },
     "metadata": {},
     "output_type": "display_data"
    }
   ],
   "source": [
    "chars = count_chars_in_text()\n",
    "\n",
    "usd_bins = 30\n",
    "\n",
    "dists = [\"gamma\"]\n",
    "\n",
    "f = Fitter(chars,\n",
    "           distributions = dists,\n",
    "           bins = usd_bins)\n",
    "f.fit()\n",
    "f.summary()"
   ]
  },
  {
   "cell_type": "code",
   "execution_count": 86,
   "id": "83f6704f-6a0c-4bc2-ac6f-53deb7e87a8a",
   "metadata": {},
   "outputs": [
    {
     "data": {
      "text/plain": [
       "[100,\n",
       " 100,\n",
       " 100,\n",
       " 100,\n",
       " 100,\n",
       " 100,\n",
       " 100,\n",
       " 100,\n",
       " 111,\n",
       " 111,\n",
       " 111,\n",
       " 111,\n",
       " 111,\n",
       " 111,\n",
       " 111,\n",
       " 111,\n",
       " 111,\n",
       " 111,\n",
       " 111,\n",
       " 111]"
      ]
     },
     "execution_count": 86,
     "metadata": {},
     "output_type": "execute_result"
    }
   ],
   "source": [
    "items_usd[:20]"
   ]
  },
  {
   "cell_type": "code",
   "execution_count": null,
   "id": "35c5134a-541c-4bad-8ae4-2508edca998c",
   "metadata": {},
   "outputs": [],
   "source": []
  },
  {
   "cell_type": "code",
   "execution_count": null,
   "id": "3539efb7-14a8-41cd-a4c7-1d005824c055",
   "metadata": {},
   "outputs": [],
   "source": []
  },
  {
   "cell_type": "code",
   "execution_count": null,
   "id": "95bff76e-97b8-45f1-8786-f91f57108713",
   "metadata": {},
   "outputs": [],
   "source": []
  },
  {
   "cell_type": "code",
   "execution_count": null,
   "id": "0fce20b6-24df-41c9-b279-65174da4483a",
   "metadata": {},
   "outputs": [],
   "source": []
  },
  {
   "cell_type": "code",
   "execution_count": null,
   "id": "31376e7a-c916-491a-9668-24a4f7f9927d",
   "metadata": {},
   "outputs": [],
   "source": []
  },
  {
   "cell_type": "code",
   "execution_count": null,
   "id": "20dab0e2-2a6e-4897-a090-79c8e095ba43",
   "metadata": {},
   "outputs": [],
   "source": []
  },
  {
   "cell_type": "code",
   "execution_count": null,
   "id": "e84afd26-dd1a-4b56-9300-601e4b3f6558",
   "metadata": {},
   "outputs": [],
   "source": []
  },
  {
   "cell_type": "code",
   "execution_count": null,
   "id": "442b8d5a-adc5-44eb-b782-4f4cf95ec75b",
   "metadata": {},
   "outputs": [],
   "source": []
  },
  {
   "cell_type": "code",
   "execution_count": null,
   "id": "c10f2c01-f524-46ed-a80f-0c967fd0ae8d",
   "metadata": {},
   "outputs": [],
   "source": []
  },
  {
   "cell_type": "code",
   "execution_count": null,
   "id": "1e36b368-5f42-4d27-a17b-58bf6aea19d8",
   "metadata": {},
   "outputs": [],
   "source": []
  }
 ],
 "metadata": {
  "kernelspec": {
   "display_name": "Python 3 (ipykernel)",
   "language": "python",
   "name": "python3"
  },
  "language_info": {
   "codemirror_mode": {
    "name": "ipython",
    "version": 3
   },
   "file_extension": ".py",
   "mimetype": "text/x-python",
   "name": "python",
   "nbconvert_exporter": "python",
   "pygments_lexer": "ipython3",
   "version": "3.12.5"
  }
 },
 "nbformat": 4,
 "nbformat_minor": 5
}
