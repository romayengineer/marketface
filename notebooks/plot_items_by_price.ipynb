{
 "cells": [
  {
   "cell_type": "code",
   "execution_count": 1,
   "id": "c75f266a-534e-4be4-8c51-54d0e3989440",
   "metadata": {},
   "outputs": [],
   "source": [
    "from database import get_items_list\n",
    "import matplotlib.pyplot as plt\n",
    "from fitter import Fitter, get_common_distributions, get_distributions"
   ]
  },
  {
   "cell_type": "code",
   "execution_count": 54,
   "id": "bfa6df9b-d5a7-4e92-9b4b-f5123c46a1de",
   "metadata": {},
   "outputs": [],
   "source": [
    "all_items = []\n",
    "\n",
    "for n in range(1, 41):\n",
    "    all_items.extend(get_items_list(n, 100, \"\").items)\n",
    "\n",
    "items_with_prices = []\n",
    "\n",
    "for item in all_items:\n",
    "    if item.price_usd > 0:\n",
    "        items_with_prices.append(item)"
   ]
  },
  {
   "cell_type": "code",
   "execution_count": 50,
   "id": "24862157-f6c2-4132-8e5a-46bcb5ba509a",
   "metadata": {},
   "outputs": [],
   "source": [
    "def wanted_items_by_usd(isUsd, min_price, max_price):\n",
    "    def wanted_items(item):\n",
    "        title = item.title.lower()\n",
    "        desc = item.description.lower()\n",
    "        text = title + \" \" + desc\n",
    "        length = len(\" \".join(set(text.split(\" \"))))\n",
    "        if (item.deleted == False and\n",
    "            item.usd == isUsd and\n",
    "            # \"somi\"     in text and\n",
    "            # \"pro\"        in text and\n",
    "            # \"book\"       in text and\n",
    "            # \"256\"        in text and\n",
    "            # \"air\"        not in text and\n",
    "            # \"placa\"      not in text and\n",
    "            # \"imac\"       not in text and\n",
    "            # \"ipad\"       not in text and\n",
    "            # \"phone\"      not in text and\n",
    "            # \"repuesto\"   not in text and\n",
    "            # item.price_usd != 111   and\n",
    "            # item.price_usd != 222   and\n",
    "            # item.price_usd != 333   and\n",
    "            # item.price_usd != 444   and\n",
    "            # item.price_usd != 555   and\n",
    "            # item.price_usd != 666   and\n",
    "            # item.price_usd != 777   and\n",
    "            # item.price_usd != 888   and\n",
    "            # item.price_usd != 999   and\n",
    "            # item.price_usd != 1111  and\n",
    "            # item.price_usd != 2222  and\n",
    "            # item.price_usd != 3333  and\n",
    "            # item.price_usd != 4444  and\n",
    "            # length > 80 and\n",
    "            item.price_usd >=  min_price   and\n",
    "            item.price_usd <=  max_price and\n",
    "           True):\n",
    "            return True\n",
    "        return False\n",
    "    return wanted_items\n",
    "\n",
    "def filter_items(isUsd, min_price, max_price):\n",
    "    filtered_items = filter(wanted_items_by_usd(isUsd, min_price, max_price), items_with_prices)\n",
    "    filtered_items = sorted(filtered_items, key=lambda i: i.price_usd)\n",
    "    # if isUsd:\n",
    "    #     filtered_items *= 7 # times more items if it is USD\n",
    "    return filtered_items\n",
    "\n",
    "def calculate_prices_usd(isUsd, min_price, max_price):\n",
    "    filtered_items = filter_items(isUsd, min_price, max_price)\n",
    "    prices_usd = []\n",
    "    \n",
    "    for item in filtered_items:\n",
    "        prices_usd.append(item.price_usd)\n",
    "        # print(item.title.ljust(100), item.price_usd)\n",
    "    \n",
    "    return prices_usd\n",
    "\n",
    "def get_urls(isUsd, min_price, max_price):\n",
    "    filtered_items = filter_items(isUsd, min_price, max_price)\n",
    "    urls = []\n",
    "    \n",
    "    for item in filtered_items:\n",
    "        title = item.title.lower()\n",
    "        desc = item.description.lower()\n",
    "        text = title + \" \" + desc\n",
    "        length = len(\" \".join(set(text.split(\" \"))))\n",
    "        urls.append((length, item.url))\n",
    "        # print(item.title.ljust(100), item.price_usd)\n",
    "\n",
    "    urls.sort(key=lambda i: i[0])\n",
    "    \n",
    "    return urls\n",
    "\n",
    "def calculate_and_print_for(currency, bins, min_price, max_price):\n",
    "    if currency == \"USD\":\n",
    "        prices = calculate_prices_usd(True, min_price, max_price)\n",
    "        count = len(prices)\n",
    "        print(\"Count Items USD: \", count)\n",
    "    elif currency == \"ARS\":\n",
    "        prices = calculate_prices_usd(False, min_price, max_price)\n",
    "        count = len(prices)\n",
    "        print(\"Count Items ARS: \", count)\n",
    "    elif currency == \"ALL\":\n",
    "        prices = []\n",
    "        prices += calculate_prices_usd(True, min_price, max_price)\n",
    "        prices += calculate_prices_usd(False, min_price, max_price)\n",
    "        count = len(prices)\n",
    "        print(\"Count Items ALL: \", count)\n",
    "    else:\n",
    "        raise Exception(f\"Unknown currency {currency}\")\n",
    "    counts, bins, bars = plt.hist(prices, bins)\n",
    "    return (prices, (counts, bins, bars),)\n",
    "\n",
    "def count_chars_in_text():\n",
    "    chars = []\n",
    "    for item in items_with_prices:\n",
    "        title = item.title.lower()\n",
    "        desc = item.description.lower()\n",
    "        text = title + \" \" + desc\n",
    "        # length = len(text)\n",
    "        length = len(\" \".join(set(text.split(\" \"))))\n",
    "        #if length < 100:\n",
    "        #    continue\n",
    "        # if length > 700:\n",
    "        #     continue\n",
    "        chars.append(length)\n",
    "    return chars\n",
    "    "
   ]
  },
  {
   "cell_type": "code",
   "execution_count": 66,
   "id": "190f8dc3-7888-4a87-a1dd-bc60eec7286c",
   "metadata": {},
   "outputs": [
    {
     "name": "stdout",
     "output_type": "stream",
     "text": [
      "Count Items ALL:  1041\n"
     ]
    },
    {
     "name": "stderr",
     "output_type": "stream",
     "text": [
      "2025-02-17 18:31:51.277 | INFO     | fitter.fitter:_fit_single_distribution:333 - Fitted lognorm distribution with error=1e-06)\n"
     ]
    },
    {
     "data": {
      "text/html": [
       "<div>\n",
       "<style scoped>\n",
       "    .dataframe tbody tr th:only-of-type {\n",
       "        vertical-align: middle;\n",
       "    }\n",
       "\n",
       "    .dataframe tbody tr th {\n",
       "        vertical-align: top;\n",
       "    }\n",
       "\n",
       "    .dataframe thead th {\n",
       "        text-align: right;\n",
       "    }\n",
       "</style>\n",
       "<table border=\"1\" class=\"dataframe\">\n",
       "  <thead>\n",
       "    <tr style=\"text-align: right;\">\n",
       "      <th></th>\n",
       "      <th>sumsquare_error</th>\n",
       "      <th>aic</th>\n",
       "      <th>bic</th>\n",
       "      <th>kl_div</th>\n",
       "      <th>ks_statistic</th>\n",
       "      <th>ks_pvalue</th>\n",
       "    </tr>\n",
       "  </thead>\n",
       "  <tbody>\n",
       "    <tr>\n",
       "      <th>lognorm</th>\n",
       "      <td>7.954913e-07</td>\n",
       "      <td>153.028672</td>\n",
       "      <td>167.872483</td>\n",
       "      <td>0.045666</td>\n",
       "      <td>0.06825</td>\n",
       "      <td>0.000116</td>\n",
       "    </tr>\n",
       "  </tbody>\n",
       "</table>\n",
       "</div>"
      ],
      "text/plain": [
       "         sumsquare_error         aic         bic    kl_div  ks_statistic  \\\n",
       "lognorm     7.954913e-07  153.028672  167.872483  0.045666       0.06825   \n",
       "\n",
       "         ks_pvalue  \n",
       "lognorm   0.000116  "
      ]
     },
     "execution_count": 66,
     "metadata": {},
     "output_type": "execute_result"
    },
    {
     "data": {
      "image/png": "[encoded data removed]",
      "text/plain": [
       "<Figure size 640x480 with 1 Axes>"
      ]
     },
     "metadata": {},
     "output_type": "display_data"
    }
   ],
   "source": [
    "usd_bins = 10\n",
    "min_price = 30\n",
    "max_price = 1200\n",
    "items_usd, usd_hist = calculate_and_print_for(\"ALL\", usd_bins, min_price, max_price)\n",
    "\n",
    "dists = [\"lognorm\"]\n",
    "\n",
    "f = Fitter(items_usd,\n",
    "           distributions = dists,\n",
    "           bins = usd_bins)\n",
    "f.fit()\n",
    "f.summary()"
   ]
  },
  {
   "cell_type": "code",
   "execution_count": 56,
   "id": "5cb53cf0-b093-48ce-aaa7-d352fdf2944c",
   "metadata": {},
   "outputs": [
    {
     "name": "stdout",
     "output_type": "stream",
     "text": [
      "Count Items ALL:  835\n"
     ]
    },
    {
     "name": "stderr",
     "output_type": "stream",
     "text": [
      "2025-02-17 18:27:01.556 | INFO     | fitter.fitter:_fit_single_distribution:333 - Fitted lognorm distribution with error=5.3e-05)\n"
     ]
    },
    {
     "data": {
      "text/html": [
       "<div>\n",
       "<style scoped>\n",
       "    .dataframe tbody tr th:only-of-type {\n",
       "        vertical-align: middle;\n",
       "    }\n",
       "\n",
       "    .dataframe tbody tr th {\n",
       "        vertical-align: top;\n",
       "    }\n",
       "\n",
       "    .dataframe thead th {\n",
       "        text-align: right;\n",
       "    }\n",
       "</style>\n",
       "<table border=\"1\" class=\"dataframe\">\n",
       "  <thead>\n",
       "    <tr style=\"text-align: right;\">\n",
       "      <th></th>\n",
       "      <th>sumsquare_error</th>\n",
       "      <th>aic</th>\n",
       "      <th>bic</th>\n",
       "      <th>kl_div</th>\n",
       "      <th>ks_statistic</th>\n",
       "      <th>ks_pvalue</th>\n",
       "    </tr>\n",
       "  </thead>\n",
       "  <tbody>\n",
       "    <tr>\n",
       "      <th>lognorm</th>\n",
       "      <td>0.000053</td>\n",
       "      <td>399.954625</td>\n",
       "      <td>414.13692</td>\n",
       "      <td>0.354155</td>\n",
       "      <td>0.067078</td>\n",
       "      <td>0.001037</td>\n",
       "    </tr>\n",
       "  </tbody>\n",
       "</table>\n",
       "</div>"
      ],
      "text/plain": [
       "         sumsquare_error         aic        bic    kl_div  ks_statistic  \\\n",
       "lognorm         0.000053  399.954625  414.13692  0.354155      0.067078   \n",
       "\n",
       "         ks_pvalue  \n",
       "lognorm   0.001037  "
      ]
     },
     "execution_count": 56,
     "metadata": {},
     "output_type": "execute_result"
    },
    {
     "data": {
      "image/png": "[encoded data removed]",
      "text/plain": [
       "<Figure size 640x480 with 1 Axes>"
      ]
     },
     "metadata": {},
     "output_type": "display_data"
    }
   ],
   "source": [
    "ars_bins = 30\n",
    "min_price = 20\n",
    "max_price = 700\n",
    "\n",
    "items_ars, ars_hist = calculate_and_print_for(\"ALL\", ars_bins, min_price, max_price)\n",
    "\n",
    "dists = [\"lognorm\"]\n",
    "\n",
    "f = Fitter(items_ars,\n",
    "           distributions = dists,\n",
    "           bins = ars_bins)\n",
    "f.fit()\n",
    "f.summary()"
   ]
  },
  {
   "cell_type": "code",
   "execution_count": 26,
   "id": "85a2f6c8-1cd6-4d18-9908-4b388a5b45f6",
   "metadata": {},
   "outputs": [
    {
     "data": {
      "text/plain": [
       "241"
      ]
     },
     "execution_count": 26,
     "metadata": {},
     "output_type": "execute_result"
    }
   ],
   "source": [
    "len(items_with_prices)"
   ]
  },
  {
   "cell_type": "code",
   "execution_count": 28,
   "id": "57e63059-cfec-47df-a138-b2f481e5863d",
   "metadata": {},
   "outputs": [
    {
     "name": "stderr",
     "output_type": "stream",
     "text": [
      "2025-02-17 11:49:02.062 | INFO     | fitter.fitter:_fit_single_distribution:333 - Fitted gamma distribution with error=9e-06)\n"
     ]
    },
    {
     "data": {
      "text/html": [
       "<div>\n",
       "<style scoped>\n",
       "    .dataframe tbody tr th:only-of-type {\n",
       "        vertical-align: middle;\n",
       "    }\n",
       "\n",
       "    .dataframe tbody tr th {\n",
       "        vertical-align: top;\n",
       "    }\n",
       "\n",
       "    .dataframe thead th {\n",
       "        text-align: right;\n",
       "    }\n",
       "</style>\n",
       "<table border=\"1\" class=\"dataframe\">\n",
       "  <thead>\n",
       "    <tr style=\"text-align: right;\">\n",
       "      <th></th>\n",
       "      <th>sumsquare_error</th>\n",
       "      <th>aic</th>\n",
       "      <th>bic</th>\n",
       "      <th>kl_div</th>\n",
       "      <th>ks_statistic</th>\n",
       "      <th>ks_pvalue</th>\n",
       "    </tr>\n",
       "  </thead>\n",
       "  <tbody>\n",
       "    <tr>\n",
       "      <th>gamma</th>\n",
       "      <td>0.000009</td>\n",
       "      <td>1045.915561</td>\n",
       "      <td>1056.369952</td>\n",
       "      <td>inf</td>\n",
       "      <td>0.979757</td>\n",
       "      <td>0.0</td>\n",
       "    </tr>\n",
       "  </tbody>\n",
       "</table>\n",
       "</div>"
      ],
      "text/plain": [
       "       sumsquare_error          aic          bic  kl_div  ks_statistic  \\\n",
       "gamma         0.000009  1045.915561  1056.369952     inf      0.979757   \n",
       "\n",
       "       ks_pvalue  \n",
       "gamma        0.0  "
      ]
     },
     "execution_count": 28,
     "metadata": {},
     "output_type": "execute_result"
    },
    {
     "data": {
      "image/png": "[encoded data removed]",
      "text/plain": [
       "<Figure size 640x480 with 1 Axes>"
      ]
     },
     "metadata": {},
     "output_type": "display_data"
    }
   ],
   "source": [
    "chars = count_chars_in_text()\n",
    "\n",
    "usd_bins = 10\n",
    "\n",
    "dists = [\"gamma\"]\n",
    "\n",
    "f = Fitter(chars,\n",
    "           distributions = dists,\n",
    "           bins = usd_bins)\n",
    "f.fit()\n",
    "f.summary()"
   ]
  },
  {
   "cell_type": "code",
   "execution_count": 86,
   "id": "83f6704f-6a0c-4bc2-ac6f-53deb7e87a8a",
   "metadata": {},
   "outputs": [
    {
     "data": {
      "text/plain": [
       "[100,\n",
       " 100,\n",
       " 100,\n",
       " 100,\n",
       " 100,\n",
       " 100,\n",
       " 100,\n",
       " 100,\n",
       " 111,\n",
       " 111,\n",
       " 111,\n",
       " 111,\n",
       " 111,\n",
       " 111,\n",
       " 111,\n",
       " 111,\n",
       " 111,\n",
       " 111,\n",
       " 111,\n",
       " 111]"
      ]
     },
     "execution_count": 86,
     "metadata": {},
     "output_type": "execute_result"
    }
   ],
   "source": [
    "items_usd[:20]"
   ]
  },
  {
   "cell_type": "code",
   "execution_count": null,
   "id": "35c5134a-541c-4bad-8ae4-2508edca998c",
   "metadata": {},
   "outputs": [],
   "source": []
  },
  {
   "cell_type": "code",
   "execution_count": null,
   "id": "3539efb7-14a8-41cd-a4c7-1d005824c055",
   "metadata": {},
   "outputs": [],
   "source": []
  },
  {
   "cell_type": "code",
   "execution_count": null,
   "id": "95bff76e-97b8-45f1-8786-f91f57108713",
   "metadata": {},
   "outputs": [],
   "source": []
  },
  {
   "cell_type": "code",
   "execution_count": null,
   "id": "0fce20b6-24df-41c9-b279-65174da4483a",
   "metadata": {},
   "outputs": [],
   "source": []
  },
  {
   "cell_type": "code",
   "execution_count": null,
   "id": "31376e7a-c916-491a-9668-24a4f7f9927d",
   "metadata": {},
   "outputs": [],
   "source": []
  },
  {
   "cell_type": "code",
   "execution_count": null,
   "id": "20dab0e2-2a6e-4897-a090-79c8e095ba43",
   "metadata": {},
   "outputs": [],
   "source": []
  },
  {
   "cell_type": "code",
   "execution_count": null,
   "id": "e84afd26-dd1a-4b56-9300-601e4b3f6558",
   "metadata": {},
   "outputs": [],
   "source": []
  },
  {
   "cell_type": "code",
   "execution_count": null,
   "id": "442b8d5a-adc5-44eb-b782-4f4cf95ec75b",
   "metadata": {},
   "outputs": [],
   "source": []
  },
  {
   "cell_type": "code",
   "execution_count": null,
   "id": "c10f2c01-f524-46ed-a80f-0c967fd0ae8d",
   "metadata": {},
   "outputs": [],
   "source": []
  },
  {
   "cell_type": "code",
   "execution_count": null,
   "id": "40690ed8-7119-4f14-87bb-01d23af42cb7",
   "metadata": {},
   "outputs": [],
   "source": []
  }
 ],
 "metadata": {
  "kernelspec": {
   "display_name": "Python 3 (ipykernel)",
   "language": "python",
   "name": "python3"
  },
  "language_info": {
   "codemirror_mode": {
    "name": "ipython",
    "version": 3
   },
   "file_extension": ".py",
   "mimetype": "text/x-python",
   "name": "python",
   "nbconvert_exporter": "python",
   "pygments_lexer": "ipython3",
   "version": "3.13.2"
  }
 },
 "nbformat": 4,
 "nbformat_minor": 5
}
