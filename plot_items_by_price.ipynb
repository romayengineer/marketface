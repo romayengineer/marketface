{
 "cells": [
  {
   "cell_type": "code",
   "execution_count": 442,
   "id": "c75f266a-534e-4be4-8c51-54d0e3989440",
   "metadata": {},
   "outputs": [],
   "source": [
    "from database import get_items_list\n",
    "import matplotlib.pyplot as plt\n",
    "from fitter import Fitter, get_common_distributions, get_distributions"
   ]
  },
  {
   "cell_type": "code",
   "execution_count": 443,
   "id": "bfa6df9b-d5a7-4e92-9b4b-f5123c46a1de",
   "metadata": {},
   "outputs": [],
   "source": [
    "all_items = []\n",
    "\n",
    "for n in range(1, 21):\n",
    "    all_items.extend(get_items_list(n, 100, \"\").items)"
   ]
  },
  {
   "cell_type": "code",
   "execution_count": 444,
   "id": "24862157-f6c2-4132-8e5a-46bcb5ba509a",
   "metadata": {},
   "outputs": [],
   "source": [
    "def wanted_items_by_usd(isUsd):\n",
    "    def wanted_items(item):\n",
    "        title = item.title.lower()\n",
    "        desc = item.description.lower()\n",
    "        text = title + \" \" + desc\n",
    "        if (item.deleted == False and\n",
    "            item.usd == isUsd and\n",
    "            \"macbook\" in text and\n",
    "            \"air\" not in text and\n",
    "            \"phone\" not in text and\n",
    "            # \"pro\" in title and\n",
    "            item.price_usd > 100 and\n",
    "            item.price_usd < 1400):\n",
    "            return True\n",
    "        return False\n",
    "    return wanted_items\n",
    "\n",
    "def calculate_prices_usd(isUsd):\n",
    "    filtered_items = filter(wanted_items_by_usd(isUsd), all_items)\n",
    "    filtered_items = sorted(filtered_items, key=lambda i: i.price_usd)\n",
    "    # if isUsd:\n",
    "    #     filtered_items *= 7 # times more items if it is USD\n",
    "    \n",
    "    prices_usd = []\n",
    "    \n",
    "    for item in filtered_items:\n",
    "        prices_usd.append(item.price_usd)\n",
    "        # print(item.title.ljust(100), item.price_usd)\n",
    "    \n",
    "    return prices_usd\n",
    "\n",
    "def calculate_and_print_for(currency, bins):\n",
    "    if currency == \"USD\":\n",
    "        prices = calculate_prices_usd(True)\n",
    "        count = len(prices)\n",
    "        print(\"Count Items USD: \", count)\n",
    "    elif currency == \"ARS\":\n",
    "        prices = calculate_prices_usd(False)\n",
    "        count = len(prices)\n",
    "        print(\"Count Items ARS: \", count)\n",
    "    elif currency == \"ALL\":\n",
    "        prices = []\n",
    "        prices += calculate_prices_usd(True)\n",
    "        prices += calculate_prices_usd(False)\n",
    "        count = len(prices)\n",
    "        print(\"Count Items ALL: \", count)\n",
    "    else:\n",
    "        raise Exception(f\"Unknown currency {currency}\")\n",
    "    counts, bins, bars = plt.hist(prices, bins)\n",
    "    return (prices, (counts, bins, bars),)"
   ]
  },
  {
   "cell_type": "code",
   "execution_count": 445,
   "id": "190f8dc3-7888-4a87-a1dd-bc60eec7286c",
   "metadata": {},
   "outputs": [
    {
     "name": "stdout",
     "output_type": "stream",
     "text": [
      "Count Items USD:  61\n"
     ]
    },
    {
     "name": "stderr",
     "output_type": "stream",
     "text": [
      "2024-09-01 22:08:37.206 | INFO     | fitter.fitter:_fit_single_distribution:333 - Fitted norm distribution with error=1e-06)\n"
     ]
    },
    {
     "data": {
      "text/html": [
       "<div>\n",
       "<style scoped>\n",
       "    .dataframe tbody tr th:only-of-type {\n",
       "        vertical-align: middle;\n",
       "    }\n",
       "\n",
       "    .dataframe tbody tr th {\n",
       "        vertical-align: top;\n",
       "    }\n",
       "\n",
       "    .dataframe thead th {\n",
       "        text-align: right;\n",
       "    }\n",
       "</style>\n",
       "<table border=\"1\" class=\"dataframe\">\n",
       "  <thead>\n",
       "    <tr style=\"text-align: right;\">\n",
       "      <th></th>\n",
       "      <th>sumsquare_error</th>\n",
       "      <th>aic</th>\n",
       "      <th>bic</th>\n",
       "      <th>kl_div</th>\n",
       "      <th>ks_statistic</th>\n",
       "      <th>ks_pvalue</th>\n",
       "    </tr>\n",
       "  </thead>\n",
       "  <tbody>\n",
       "    <tr>\n",
       "      <th>norm</th>\n",
       "      <td>0.000001</td>\n",
       "      <td>105.310978</td>\n",
       "      <td>109.532726</td>\n",
       "      <td>0.127082</td>\n",
       "      <td>0.100702</td>\n",
       "      <td>0.533036</td>\n",
       "    </tr>\n",
       "  </tbody>\n",
       "</table>\n",
       "</div>"
      ],
      "text/plain": [
       "      sumsquare_error         aic         bic    kl_div  ks_statistic  \\\n",
       "norm         0.000001  105.310978  109.532726  0.127082      0.100702   \n",
       "\n",
       "      ks_pvalue  \n",
       "norm   0.533036  "
      ]
     },
     "execution_count": 445,
     "metadata": {},
     "output_type": "execute_result"
    },
    {
     "data": {
      "image/png": "[encoded data removed]",
      "text/plain": [
       "<Figure size 640x480 with 1 Axes>"
      ]
     },
     "metadata": {},
     "output_type": "display_data"
    }
   ],
   "source": [
    "usd_bins = 7\n",
    "\n",
    "items_usd, usd_hist = calculate_and_print_for(\"USD\", usd_bins)\n",
    "\n",
    "dists = [\"norm\"]\n",
    "\n",
    "f = Fitter(items_usd,\n",
    "           distributions = dists,\n",
    "           bins = usd_bins)\n",
    "f.fit()\n",
    "f.summary()"
   ]
  },
  {
   "cell_type": "code",
   "execution_count": 446,
   "id": "5cb53cf0-b093-48ce-aaa7-d352fdf2944c",
   "metadata": {},
   "outputs": [
    {
     "name": "stdout",
     "output_type": "stream",
     "text": [
      "Count Items ARS:  359\n"
     ]
    },
    {
     "name": "stderr",
     "output_type": "stream",
     "text": [
      "2024-09-01 22:08:37.599 | INFO     | fitter.fitter:_fit_single_distribution:333 - Fitted lognorm distribution with error=1e-06)\n"
     ]
    },
    {
     "data": {
      "text/html": [
       "<div>\n",
       "<style scoped>\n",
       "    .dataframe tbody tr th:only-of-type {\n",
       "        vertical-align: middle;\n",
       "    }\n",
       "\n",
       "    .dataframe tbody tr th {\n",
       "        vertical-align: top;\n",
       "    }\n",
       "\n",
       "    .dataframe thead th {\n",
       "        text-align: right;\n",
       "    }\n",
       "</style>\n",
       "<table border=\"1\" class=\"dataframe\">\n",
       "  <thead>\n",
       "    <tr style=\"text-align: right;\">\n",
       "      <th></th>\n",
       "      <th>sumsquare_error</th>\n",
       "      <th>aic</th>\n",
       "      <th>bic</th>\n",
       "      <th>kl_div</th>\n",
       "      <th>ks_statistic</th>\n",
       "      <th>ks_pvalue</th>\n",
       "    </tr>\n",
       "  </thead>\n",
       "  <tbody>\n",
       "    <tr>\n",
       "      <th>lognorm</th>\n",
       "      <td>9.228825e-07</td>\n",
       "      <td>157.08118</td>\n",
       "      <td>168.731148</td>\n",
       "      <td>0.069741</td>\n",
       "      <td>0.066909</td>\n",
       "      <td>0.076758</td>\n",
       "    </tr>\n",
       "  </tbody>\n",
       "</table>\n",
       "</div>"
      ],
      "text/plain": [
       "         sumsquare_error        aic         bic    kl_div  ks_statistic  \\\n",
       "lognorm     9.228825e-07  157.08118  168.731148  0.069741      0.066909   \n",
       "\n",
       "         ks_pvalue  \n",
       "lognorm   0.076758  "
      ]
     },
     "execution_count": 446,
     "metadata": {},
     "output_type": "execute_result"
    },
    {
     "data": {
      "image/png": "[encoded data removed]",
      "text/plain": [
       "<Figure size 640x480 with 1 Axes>"
      ]
     },
     "metadata": {},
     "output_type": "display_data"
    }
   ],
   "source": [
    "ars_bins = 10\n",
    "\n",
    "items_ars, ars_hist = calculate_and_print_for(\"ARS\", ars_bins)\n",
    "\n",
    "dists = [\"lognorm\"]\n",
    "\n",
    "f = Fitter(items_ars,\n",
    "           distributions = dists,\n",
    "           bins = ars_bins)\n",
    "f.fit()\n",
    "f.summary()"
   ]
  },
  {
   "cell_type": "code",
   "execution_count": null,
   "id": "85a2f6c8-1cd6-4d18-9908-4b388a5b45f6",
   "metadata": {},
   "outputs": [],
   "source": []
  },
  {
   "cell_type": "code",
   "execution_count": null,
   "id": "57e63059-cfec-47df-a138-b2f481e5863d",
   "metadata": {},
   "outputs": [],
   "source": []
  },
  {
   "cell_type": "code",
   "execution_count": null,
   "id": "4d1c4a98-4e51-4b91-b355-6776f5d1682b",
   "metadata": {},
   "outputs": [],
   "source": []
  },
  {
   "cell_type": "code",
   "execution_count": null,
   "id": "83f6704f-6a0c-4bc2-ac6f-53deb7e87a8a",
   "metadata": {},
   "outputs": [],
   "source": []
  },
  {
   "cell_type": "code",
   "execution_count": null,
   "id": "35c5134a-541c-4bad-8ae4-2508edca998c",
   "metadata": {},
   "outputs": [],
   "source": []
  },
  {
   "cell_type": "code",
   "execution_count": null,
   "id": "3539efb7-14a8-41cd-a4c7-1d005824c055",
   "metadata": {},
   "outputs": [],
   "source": []
  },
  {
   "cell_type": "code",
   "execution_count": null,
   "id": "95bff76e-97b8-45f1-8786-f91f57108713",
   "metadata": {},
   "outputs": [],
   "source": []
  },
  {
   "cell_type": "code",
   "execution_count": null,
   "id": "0fce20b6-24df-41c9-b279-65174da4483a",
   "metadata": {},
   "outputs": [],
   "source": []
  },
  {
   "cell_type": "code",
   "execution_count": null,
   "id": "31376e7a-c916-491a-9668-24a4f7f9927d",
   "metadata": {},
   "outputs": [],
   "source": []
  }
 ],
 "metadata": {
  "kernelspec": {
   "display_name": "Python 3 (ipykernel)",
   "language": "python",
   "name": "python3"
  },
  "language_info": {
   "codemirror_mode": {
    "name": "ipython",
    "version": 3
   },
   "file_extension": ".py",
   "mimetype": "text/x-python",
   "name": "python",
   "nbconvert_exporter": "python",
   "pygments_lexer": "ipython3",
   "version": "3.12.5"
  }
 },
 "nbformat": 4,
 "nbformat_minor": 5
}
